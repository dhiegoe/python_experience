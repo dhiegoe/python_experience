{
 "cells": [
  {
   "cell_type": "markdown",
   "metadata": {},
   "source": [
    "Data Frames - Empresa fíctica Contoso"
   ]
  },
  {
   "cell_type": "code",
   "execution_count": 8,
   "metadata": {},
   "outputs": [],
   "source": [
    "import pandas as pd"
   ]
  },
  {
   "cell_type": "code",
   "execution_count": 18,
   "metadata": {},
   "outputs": [],
   "source": [
    "produtos_df = pd.read_csv('Contoso - Cadastro Produtos.csv',sep=';')\n",
    "clientes_df = pd.read_csv('Contoso - Clientes.csv',sep=';')\n",
    "lojas_df = pd.read_csv('Contoso - Lojas.csv',sep=';')\n",
    "promocoes_df = pd.read_csv('Contoso - Promocoes.csv',sep=';')\n",
    "vendas_df = pd.read_csv('Contoso - Vendas - 2017.csv',sep=';')"
   ]
  },
  {
   "cell_type": "code",
   "execution_count": 19,
   "metadata": {},
   "outputs": [
    {
     "name": "stdout",
     "output_type": "stream",
     "text": [
      "<class 'pandas.core.frame.DataFrame'>\n",
      "RangeIndex: 39504 entries, 0 to 39503\n",
      "Data columns (total 11 columns):\n",
      " #   Column              Non-Null Count  Dtype  \n",
      "---  ------              --------------  -----  \n",
      " 0   ID Cliente          39504 non-null  int64  \n",
      " 1   Primeiro Nome       39504 non-null  object \n",
      " 2   Sobrenome           39504 non-null  object \n",
      " 3   E-mail              39504 non-null  object \n",
      " 4   Genero              39504 non-null  object \n",
      " 5   Numero de Filhos    39504 non-null  int64  \n",
      " 6   Data de Nascimento  39504 non-null  object \n",
      " 7   Unnamed: 7          0 non-null      float64\n",
      " 8   Unnamed: 8          0 non-null      float64\n",
      " 9   Unnamed: 9          0 non-null      float64\n",
      " 10  Unnamed: 10         0 non-null      float64\n",
      "dtypes: float64(4), int64(2), object(5)\n",
      "memory usage: 3.3+ MB\n"
     ]
    }
   ],
   "source": [
    "clientes_df.info()"
   ]
  }
 ],
 "metadata": {
  "kernelspec": {
   "display_name": "Python 3.9.10 64-bit",
   "language": "python",
   "name": "python3"
  },
  "language_info": {
   "codemirror_mode": {
    "name": "ipython",
    "version": 3
   },
   "file_extension": ".py",
   "mimetype": "text/x-python",
   "name": "python",
   "nbconvert_exporter": "python",
   "pygments_lexer": "ipython3",
   "version": "3.9.10"
  },
  "orig_nbformat": 4,
  "vscode": {
   "interpreter": {
    "hash": "2a95b1bfbef63db80fc24d8cdaeb6dc431bfe77a099364ca35ea9acab779b4a5"
   }
  }
 },
 "nbformat": 4,
 "nbformat_minor": 2
}
