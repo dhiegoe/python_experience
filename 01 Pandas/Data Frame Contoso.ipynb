{
 "cells": [
  {
   "cell_type": "markdown",
   "metadata": {},
   "source": [
    "Data Frames - Empresa fíctica Contoso"
   ]
  },
  {
   "cell_type": "code",
   "execution_count": 64,
   "metadata": {},
   "outputs": [],
   "source": [
    "# Import Pandas library\n",
    "import pandas as pd\n",
    "import matplotlib.pyplot as plt\n",
    "plt.style.use('seaborn-white')"
   ]
  },
  {
   "cell_type": "code",
   "execution_count": 65,
   "metadata": {},
   "outputs": [],
   "source": [
    "# Data Frames creation\n",
    "products_df = pd.read_csv('Contoso - Cadastro Produtos.csv',sep=';')\n",
    "customers_df = pd.read_csv('Contoso - Clientes.csv',sep=';')\n",
    "stores_df = pd.read_csv('Contoso - Lojas.csv',sep=';')\n",
    "promotions_df = pd.read_csv('Contoso - Promocoes.csv',sep=';')\n",
    "sales_df = pd.read_csv('Contoso - Vendas - 2017.csv',sep=';')"
   ]
  },
  {
   "cell_type": "code",
   "execution_count": 66,
   "metadata": {},
   "outputs": [
    {
     "name": "stdout",
     "output_type": "stream",
     "text": [
      "<class 'pandas.core.frame.DataFrame'>\n",
      "RangeIndex: 1690 entries, 0 to 1689\n",
      "Data columns (total 9 columns):\n",
      " #   Column                Non-Null Count  Dtype \n",
      "---  ------                --------------  ----- \n",
      " 0   Nome do Produto       1690 non-null   object\n",
      " 1   Descricao do Produto  1690 non-null   object\n",
      " 2   Fabricante            1690 non-null   object\n",
      " 3   Nome da Marca         1690 non-null   object\n",
      " 4   Tipo                  1690 non-null   object\n",
      " 5   Custo Unitario        1690 non-null   object\n",
      " 6   Preco Unitario        1690 non-null   object\n",
      " 7   ID Produto            1690 non-null   int64 \n",
      " 8   ID Subcategoria       1690 non-null   int64 \n",
      "dtypes: int64(2), object(7)\n",
      "memory usage: 119.0+ KB\n"
     ]
    }
   ],
   "source": [
    "# Data Information - Products\n",
    "products_df.info()"
   ]
  },
  {
   "cell_type": "code",
   "execution_count": 67,
   "metadata": {},
   "outputs": [
    {
     "name": "stdout",
     "output_type": "stream",
     "text": [
      "<class 'pandas.core.frame.DataFrame'>\n",
      "RangeIndex: 39504 entries, 0 to 39503\n",
      "Data columns (total 11 columns):\n",
      " #   Column              Non-Null Count  Dtype  \n",
      "---  ------              --------------  -----  \n",
      " 0   ID Cliente          39504 non-null  int64  \n",
      " 1   Primeiro Nome       39504 non-null  object \n",
      " 2   Sobrenome           39504 non-null  object \n",
      " 3   E-mail              39504 non-null  object \n",
      " 4   Genero              39504 non-null  object \n",
      " 5   Numero de Filhos    39504 non-null  int64  \n",
      " 6   Data de Nascimento  39504 non-null  object \n",
      " 7   Unnamed: 7          0 non-null      float64\n",
      " 8   Unnamed: 8          0 non-null      float64\n",
      " 9   Unnamed: 9          0 non-null      float64\n",
      " 10  Unnamed: 10         0 non-null      float64\n",
      "dtypes: float64(4), int64(2), object(5)\n",
      "memory usage: 3.3+ MB\n"
     ]
    }
   ],
   "source": [
    "# Data Information - Clients\n",
    "customers_df.info()"
   ]
  },
  {
   "cell_type": "code",
   "execution_count": 68,
   "metadata": {},
   "outputs": [
    {
     "name": "stdout",
     "output_type": "stream",
     "text": [
      "<class 'pandas.core.frame.DataFrame'>\n",
      "RangeIndex: 306 entries, 0 to 305\n",
      "Data columns (total 4 columns):\n",
      " #   Column                    Non-Null Count  Dtype  \n",
      "---  ------                    --------------  -----  \n",
      " 0   ID Loja                   306 non-null    int64  \n",
      " 1   Nome da Loja              306 non-null    object \n",
      " 2   Quantidade Colaboradores  305 non-null    float64\n",
      " 3   País                      306 non-null    object \n",
      "dtypes: float64(1), int64(1), object(2)\n",
      "memory usage: 9.7+ KB\n"
     ]
    }
   ],
   "source": [
    "# Data Information - Clients\n",
    "stores_df.info()"
   ]
  },
  {
   "cell_type": "code",
   "execution_count": 69,
   "metadata": {},
   "outputs": [
    {
     "name": "stdout",
     "output_type": "stream",
     "text": [
      "<class 'pandas.core.frame.DataFrame'>\n",
      "RangeIndex: 28 entries, 0 to 27\n",
      "Data columns (total 7 columns):\n",
      " #   Column               Non-Null Count  Dtype  \n",
      "---  ------               --------------  -----  \n",
      " 0   ID Promocao          28 non-null     int64  \n",
      " 1   Nome Promocao        28 non-null     object \n",
      " 2   Percentual Desconto  28 non-null     object \n",
      " 3   Data Inicio          28 non-null     object \n",
      " 4   Data Termino         28 non-null     object \n",
      " 5   Unnamed: 5           0 non-null      float64\n",
      " 6   Unnamed: 6           0 non-null      float64\n",
      "dtypes: float64(2), int64(1), object(4)\n",
      "memory usage: 1.7+ KB\n"
     ]
    }
   ],
   "source": [
    "# Data Information - Clients\n",
    "promotions_df.info()"
   ]
  },
  {
   "cell_type": "code",
   "execution_count": 70,
   "metadata": {},
   "outputs": [
    {
     "name": "stdout",
     "output_type": "stream",
     "text": [
      "<class 'pandas.core.frame.DataFrame'>\n",
      "RangeIndex: 980642 entries, 0 to 980641\n",
      "Data columns (total 10 columns):\n",
      " #   Column                Non-Null Count   Dtype \n",
      "---  ------                --------------   ----- \n",
      " 0   Numero da Venda       980642 non-null  int64 \n",
      " 1   Data da Venda         980642 non-null  object\n",
      " 2   Data do Envio         980642 non-null  object\n",
      " 3   ID Canal              980642 non-null  int64 \n",
      " 4   ID Loja               980642 non-null  int64 \n",
      " 5   ID Produto            980642 non-null  int64 \n",
      " 6   ID Promocao           980642 non-null  int64 \n",
      " 7   ID Cliente            980642 non-null  int64 \n",
      " 8   Quantidade Vendida    980642 non-null  int64 \n",
      " 9   Quantidade Devolvida  980642 non-null  int64 \n",
      "dtypes: int64(8), object(2)\n",
      "memory usage: 74.8+ MB\n"
     ]
    }
   ],
   "source": [
    "# Data Information - Clients\n",
    "sales_df.info()"
   ]
  },
  {
   "cell_type": "code",
   "execution_count": 71,
   "metadata": {},
   "outputs": [],
   "source": [
    "# Remove Non useful columns in Data Frame Clients\n",
    "customers_df = customers_df.drop(['Unnamed: 7','Unnamed: 8','Unnamed: 9','Unnamed: 10'],axis=1)"
   ]
  },
  {
   "cell_type": "code",
   "execution_count": 72,
   "metadata": {},
   "outputs": [],
   "source": [
    "# Use only columns in Data Frame Clients\n",
    "customers_df = customers_df[['ID Cliente','E-mail']]"
   ]
  },
  {
   "cell_type": "code",
   "execution_count": 73,
   "metadata": {},
   "outputs": [],
   "source": [
    "# Remove Non useful columns in Data Frame Promotion\n",
    "promotions_df = promotions_df.drop(['Unnamed: 5','Unnamed: 6'],axis=1)"
   ]
  },
  {
   "cell_type": "code",
   "execution_count": 74,
   "metadata": {},
   "outputs": [],
   "source": [
    "# Use only columns in Data Frames Products and Stores\n",
    "products_df = products_df[['ID Produto','Nome do Produto']]\n",
    "stores_df = stores_df[['ID Loja','Nome da Loja']]"
   ]
  },
  {
   "cell_type": "code",
   "execution_count": 75,
   "metadata": {},
   "outputs": [],
   "source": [
    "# Merge Data Frames\n",
    "sales_df = sales_df.merge(products_df,on='ID Produto')\n",
    "sales_df = sales_df.merge(stores_df,on='ID Loja')\n",
    "sales_df = sales_df.merge(customers_df,on='ID Cliente')"
   ]
  },
  {
   "cell_type": "code",
   "execution_count": 76,
   "metadata": {},
   "outputs": [],
   "source": [
    "# Rename one Column\n",
    "sales_df = sales_df.rename(columns={'E-mail':'E-mail do Cliente'})"
   ]
  },
  {
   "cell_type": "markdown",
   "metadata": {},
   "source": [
    "Which customer buy more often?"
   ]
  },
  {
   "cell_type": "code",
   "execution_count": 77,
   "metadata": {},
   "outputs": [
    {
     "data": {
      "text/plain": [
       "karen33@adventure-works.com       77\n",
       "chloe77@adventure-works.com       74\n",
       "julia43@adventure-works.com       69\n",
       "destiny66@adventure-works.com     68\n",
       "gilbert9@adventure-works.com      68\n",
       "                                  ..\n",
       "isabella51@adventure-works.com     1\n",
       "wdalescoci@pbs.org                 1\n",
       "kbroggelliin@rakuten.co.jp         1\n",
       "connor15@adventure-works.com       1\n",
       "ekorneevmm@instagram.com           1\n",
       "Name: E-mail do Cliente, Length: 38907, dtype: int64"
      ]
     },
     "metadata": {},
     "output_type": "display_data"
    },
    {
     "data": {
      "text/plain": [
       "<AxesSubplot:>"
      ]
     },
     "execution_count": 77,
     "metadata": {},
     "output_type": "execute_result"
    },
    {
     "data": {
      "image/png": "[encoded data removed]",
      "text/plain": [
       "<Figure size 1080x360 with 1 Axes>"
      ]
     },
     "metadata": {},
     "output_type": "display_data"
    }
   ],
   "source": [
    "# New data frame, value counts by E-mail and Plot\n",
    "often_customers = sales_df['E-mail do Cliente'].value_counts()\n",
    "display(often_customers)\n",
    "often_customers[:5].plot(figsize=(15,5))\n"
   ]
  },
  {
   "cell_type": "markdown",
   "metadata": {},
   "source": [
    "Which store sold the most?"
   ]
  },
  {
   "cell_type": "code",
   "execution_count": 90,
   "metadata": {},
   "outputs": [
    {
     "data": {
      "text/html": [
       "<div>\n",
       "<style scoped>\n",
       "    .dataframe tbody tr th:only-of-type {\n",
       "        vertical-align: middle;\n",
       "    }\n",
       "\n",
       "    .dataframe tbody tr th {\n",
       "        vertical-align: top;\n",
       "    }\n",
       "\n",
       "    .dataframe thead th {\n",
       "        text-align: right;\n",
       "    }\n",
       "</style>\n",
       "<table border=\"1\" class=\"dataframe\">\n",
       "  <thead>\n",
       "    <tr style=\"text-align: right;\">\n",
       "      <th></th>\n",
       "      <th>Quantidade Vendida</th>\n",
       "    </tr>\n",
       "    <tr>\n",
       "      <th>Nome da Loja</th>\n",
       "      <th></th>\n",
       "    </tr>\n",
       "  </thead>\n",
       "  <tbody>\n",
       "    <tr>\n",
       "      <th>Loja Contoso Catalog</th>\n",
       "      <td>1029117</td>\n",
       "    </tr>\n",
       "    <tr>\n",
       "      <th>Loja Contoso North America Online</th>\n",
       "      <td>701961</td>\n",
       "    </tr>\n",
       "    <tr>\n",
       "      <th>Loja Contoso Europe Online</th>\n",
       "      <td>616845</td>\n",
       "    </tr>\n",
       "    <tr>\n",
       "      <th>Loja Contoso Asia Online</th>\n",
       "      <td>578458</td>\n",
       "    </tr>\n",
       "    <tr>\n",
       "      <th>Loja Contoso North America Reseller</th>\n",
       "      <td>520176</td>\n",
       "    </tr>\n",
       "    <tr>\n",
       "      <th>...</th>\n",
       "      <td>...</td>\n",
       "    </tr>\n",
       "    <tr>\n",
       "      <th>Loja Contoso Berlin</th>\n",
       "      <td>379</td>\n",
       "    </tr>\n",
       "    <tr>\n",
       "      <th>Loja Contoso Paterson</th>\n",
       "      <td>371</td>\n",
       "    </tr>\n",
       "    <tr>\n",
       "      <th>Loja Contoso Marseille</th>\n",
       "      <td>370</td>\n",
       "    </tr>\n",
       "    <tr>\n",
       "      <th>Loja Contoso Racine No.2</th>\n",
       "      <td>253</td>\n",
       "    </tr>\n",
       "    <tr>\n",
       "      <th>Loja Contoso Venezia</th>\n",
       "      <td>234</td>\n",
       "    </tr>\n",
       "  </tbody>\n",
       "</table>\n",
       "<p>306 rows × 1 columns</p>\n",
       "</div>"
      ],
      "text/plain": [
       "                                     Quantidade Vendida\n",
       "Nome da Loja                                           \n",
       "Loja Contoso Catalog                            1029117\n",
       "Loja Contoso North America Online                701961\n",
       "Loja Contoso Europe Online                       616845\n",
       "Loja Contoso Asia Online                         578458\n",
       "Loja Contoso North America Reseller              520176\n",
       "...                                                 ...\n",
       "Loja Contoso Berlin                                 379\n",
       "Loja Contoso Paterson                               371\n",
       "Loja Contoso Marseille                              370\n",
       "Loja Contoso Racine No.2                            253\n",
       "Loja Contoso Venezia                                234\n",
       "\n",
       "[306 rows x 1 columns]"
      ]
     },
     "metadata": {},
     "output_type": "display_data"
    },
    {
     "data": {
      "text/plain": [
       "<AxesSubplot:xlabel='Nome da Loja'>"
      ]
     },
     "execution_count": 90,
     "metadata": {},
     "output_type": "execute_result"
    },
    {
     "data": {
      "image/png": "[encoded data removed]",
      "text/plain": [
       "<Figure size 1080x360 with 1 Axes>"
      ]
     },
     "metadata": {},
     "output_type": "display_data"
    }
   ],
   "source": [
    "# New data frame Stores, Group By + Sum, Sort Values\n",
    "sales_stores = sales_df.groupby('Nome da Loja').sum()\n",
    "sales_stores = sales_stores[['Quantidade Vendida']]\n",
    "sales_stores = sales_stores.sort_values('Quantidade Vendida',ascending=False)\n",
    "display(sales_stores)\n",
    "sales_stores[:5].plot(figsize=(15,5),kind='bar')\n"
   ]
  },
  {
   "cell_type": "code",
   "execution_count": 99,
   "metadata": {},
   "outputs": [
    {
     "name": "stdout",
     "output_type": "stream",
     "text": [
      "Loja Contoso Catalog  1029117\n"
     ]
    }
   ],
   "source": [
    "# Obtain greater value directly using Max and Index Max\n",
    "greater_value = sales_stores['Quantidade Vendida'].max()\n",
    "best_store = sales_stores['Quantidade Vendida'].idxmax()\n",
    "print(best_store,greater_value)"
   ]
  },
  {
   "cell_type": "markdown",
   "metadata": {},
   "source": [
    "Which store lower sold?"
   ]
  },
  {
   "cell_type": "code",
   "execution_count": 100,
   "metadata": {},
   "outputs": [
    {
     "data": {
      "text/html": [
       "<div>\n",
       "<style scoped>\n",
       "    .dataframe tbody tr th:only-of-type {\n",
       "        vertical-align: middle;\n",
       "    }\n",
       "\n",
       "    .dataframe tbody tr th {\n",
       "        vertical-align: top;\n",
       "    }\n",
       "\n",
       "    .dataframe thead th {\n",
       "        text-align: right;\n",
       "    }\n",
       "</style>\n",
       "<table border=\"1\" class=\"dataframe\">\n",
       "  <thead>\n",
       "    <tr style=\"text-align: right;\">\n",
       "      <th></th>\n",
       "      <th>Quantidade Vendida</th>\n",
       "    </tr>\n",
       "    <tr>\n",
       "      <th>Nome da Loja</th>\n",
       "      <th></th>\n",
       "    </tr>\n",
       "  </thead>\n",
       "  <tbody>\n",
       "    <tr>\n",
       "      <th>Loja Contoso Venezia</th>\n",
       "      <td>234</td>\n",
       "    </tr>\n",
       "  </tbody>\n",
       "</table>\n",
       "</div>"
      ],
      "text/plain": [
       "                       Quantidade Vendida\n",
       "Nome da Loja                             \n",
       "Loja Contoso Venezia                  234"
      ]
     },
     "execution_count": 100,
     "metadata": {},
     "output_type": "execute_result"
    }
   ],
   "source": [
    "# Last list row or item\n",
    "sales_stores[-1:]"
   ]
  },
  {
   "cell_type": "code",
   "execution_count": 101,
   "metadata": {},
   "outputs": [
    {
     "name": "stdout",
     "output_type": "stream",
     "text": [
      "Loja Contoso Venezia  234\n"
     ]
    }
   ],
   "source": [
    "# Obtain lower value directly using Min and Index Min\n",
    "lower_value = sales_stores['Quantidade Vendida'].min()\n",
    "worse_store = sales_stores['Quantidade Vendida'].idxmin()\n",
    "print(worse_store,lower_value)"
   ]
  },
  {
   "cell_type": "markdown",
   "metadata": {},
   "source": [
    "Which % of sales has been returned?"
   ]
  },
  {
   "cell_type": "code",
   "execution_count": 105,
   "metadata": {},
   "outputs": [
    {
     "name": "stdout",
     "output_type": "stream",
     "text": [
      "1.17%\n"
     ]
    }
   ],
   "source": [
    "# Sum quantity of sales and returned, calculate the percentage\n",
    "qty_sales = sales_df['Quantidade Vendida'].sum()\n",
    "qty_returned = sales_df['Quantidade Devolvida'].sum()\n",
    "print('{:.2%}'.format(qty_returned / qty_sales))"
   ]
  },
  {
   "cell_type": "markdown",
   "metadata": {},
   "source": [
    "Which % of sales has been returned for Store 'Loja Contoso Europe Online'?"
   ]
  },
  {
   "cell_type": "code",
   "execution_count": 108,
   "metadata": {},
   "outputs": [
    {
     "data": {
      "text/html": [
       "<div>\n",
       "<style scoped>\n",
       "    .dataframe tbody tr th:only-of-type {\n",
       "        vertical-align: middle;\n",
       "    }\n",
       "\n",
       "    .dataframe tbody tr th {\n",
       "        vertical-align: top;\n",
       "    }\n",
       "\n",
       "    .dataframe thead th {\n",
       "        text-align: right;\n",
       "    }\n",
       "</style>\n",
       "<table border=\"1\" class=\"dataframe\">\n",
       "  <thead>\n",
       "    <tr style=\"text-align: right;\">\n",
       "      <th></th>\n",
       "      <th>Numero da Venda</th>\n",
       "      <th>Data da Venda</th>\n",
       "      <th>Data do Envio</th>\n",
       "      <th>ID Canal</th>\n",
       "      <th>ID Loja</th>\n",
       "      <th>ID Produto</th>\n",
       "      <th>ID Promocao</th>\n",
       "      <th>ID Cliente</th>\n",
       "      <th>Quantidade Vendida</th>\n",
       "      <th>Quantidade Devolvida</th>\n",
       "      <th>Nome do Produto</th>\n",
       "      <th>Nome da Loja</th>\n",
       "      <th>E-mail do Cliente</th>\n",
       "    </tr>\n",
       "  </thead>\n",
       "  <tbody>\n",
       "    <tr>\n",
       "      <th>1</th>\n",
       "      <td>880458</td>\n",
       "      <td>23/11/2017</td>\n",
       "      <td>23/11/2017</td>\n",
       "      <td>0</td>\n",
       "      <td>306</td>\n",
       "      <td>235</td>\n",
       "      <td>10</td>\n",
       "      <td>6825</td>\n",
       "      <td>8</td>\n",
       "      <td>0</td>\n",
       "      <td>Litware Home Theater System 7.1 Channel M710 B...</td>\n",
       "      <td>Loja Contoso Europe Online</td>\n",
       "      <td>rbrumfieldmy@ameblo.jp</td>\n",
       "    </tr>\n",
       "    <tr>\n",
       "      <th>17</th>\n",
       "      <td>614980</td>\n",
       "      <td>18/08/2017</td>\n",
       "      <td>18/08/2017</td>\n",
       "      <td>0</td>\n",
       "      <td>306</td>\n",
       "      <td>1621</td>\n",
       "      <td>9</td>\n",
       "      <td>21344</td>\n",
       "      <td>4</td>\n",
       "      <td>0</td>\n",
       "      <td>Contoso DVD Movies E100 Yellow</td>\n",
       "      <td>Loja Contoso Europe Online</td>\n",
       "      <td>makayla3@adventure-works.com</td>\n",
       "    </tr>\n",
       "    <tr>\n",
       "      <th>18</th>\n",
       "      <td>786402</td>\n",
       "      <td>21/10/2017</td>\n",
       "      <td>25/10/2017</td>\n",
       "      <td>4</td>\n",
       "      <td>306</td>\n",
       "      <td>226</td>\n",
       "      <td>10</td>\n",
       "      <td>21344</td>\n",
       "      <td>8</td>\n",
       "      <td>0</td>\n",
       "      <td>Litware Home Theater System 2.1 Channel E210 B...</td>\n",
       "      <td>Loja Contoso Europe Online</td>\n",
       "      <td>makayla3@adventure-works.com</td>\n",
       "    </tr>\n",
       "    <tr>\n",
       "      <th>19</th>\n",
       "      <td>383897</td>\n",
       "      <td>25/05/2017</td>\n",
       "      <td>28/05/2017</td>\n",
       "      <td>3</td>\n",
       "      <td>306</td>\n",
       "      <td>347</td>\n",
       "      <td>1</td>\n",
       "      <td>21344</td>\n",
       "      <td>20</td>\n",
       "      <td>0</td>\n",
       "      <td>Fabrikam Laptop14.1 M4100 White</td>\n",
       "      <td>Loja Contoso Europe Online</td>\n",
       "      <td>makayla3@adventure-works.com</td>\n",
       "    </tr>\n",
       "    <tr>\n",
       "      <th>77</th>\n",
       "      <td>559478</td>\n",
       "      <td>26/07/2017</td>\n",
       "      <td>29/07/2017</td>\n",
       "      <td>3</td>\n",
       "      <td>306</td>\n",
       "      <td>1382</td>\n",
       "      <td>1</td>\n",
       "      <td>24440</td>\n",
       "      <td>5</td>\n",
       "      <td>0</td>\n",
       "      <td>Contoso Single-line phones E10 Grey</td>\n",
       "      <td>Loja Contoso Europe Online</td>\n",
       "      <td>noah55@adventure-works.com</td>\n",
       "    </tr>\n",
       "    <tr>\n",
       "      <th>...</th>\n",
       "      <td>...</td>\n",
       "      <td>...</td>\n",
       "      <td>...</td>\n",
       "      <td>...</td>\n",
       "      <td>...</td>\n",
       "      <td>...</td>\n",
       "      <td>...</td>\n",
       "      <td>...</td>\n",
       "      <td>...</td>\n",
       "      <td>...</td>\n",
       "      <td>...</td>\n",
       "      <td>...</td>\n",
       "      <td>...</td>\n",
       "    </tr>\n",
       "    <tr>\n",
       "      <th>885329</th>\n",
       "      <td>865745</td>\n",
       "      <td>18/11/2017</td>\n",
       "      <td>24/11/2017</td>\n",
       "      <td>6</td>\n",
       "      <td>306</td>\n",
       "      <td>823</td>\n",
       "      <td>10</td>\n",
       "      <td>9259</td>\n",
       "      <td>8</td>\n",
       "      <td>0</td>\n",
       "      <td>Contoso Connectivity Starter Kit Smart Buy M68...</td>\n",
       "      <td>Loja Contoso Europe Online</td>\n",
       "      <td>mplaskitt78@marriott.com</td>\n",
       "    </tr>\n",
       "    <tr>\n",
       "      <th>885356</th>\n",
       "      <td>907944</td>\n",
       "      <td>04/12/2017</td>\n",
       "      <td>04/12/2017</td>\n",
       "      <td>0</td>\n",
       "      <td>306</td>\n",
       "      <td>208</td>\n",
       "      <td>10</td>\n",
       "      <td>18529</td>\n",
       "      <td>8</td>\n",
       "      <td>0</td>\n",
       "      <td>Litware Home Theater System 4.1 Channel M410 S...</td>\n",
       "      <td>Loja Contoso Europe Online</td>\n",
       "      <td>eribchesteres@pbs.org</td>\n",
       "    </tr>\n",
       "    <tr>\n",
       "      <th>885386</th>\n",
       "      <td>919123</td>\n",
       "      <td>08/12/2017</td>\n",
       "      <td>08/12/2017</td>\n",
       "      <td>0</td>\n",
       "      <td>306</td>\n",
       "      <td>208</td>\n",
       "      <td>10</td>\n",
       "      <td>38811</td>\n",
       "      <td>8</td>\n",
       "      <td>0</td>\n",
       "      <td>Litware Home Theater System 4.1 Channel M410 S...</td>\n",
       "      <td>Loja Contoso Europe Online</td>\n",
       "      <td>jessica47@adventure-works.com</td>\n",
       "    </tr>\n",
       "    <tr>\n",
       "      <th>885390</th>\n",
       "      <td>964452</td>\n",
       "      <td>25/12/2017</td>\n",
       "      <td>25/12/2017</td>\n",
       "      <td>0</td>\n",
       "      <td>306</td>\n",
       "      <td>192</td>\n",
       "      <td>10</td>\n",
       "      <td>30633</td>\n",
       "      <td>8</td>\n",
       "      <td>0</td>\n",
       "      <td>Litware Home Theater System 4.1 Channel M410 B...</td>\n",
       "      <td>Loja Contoso Europe Online</td>\n",
       "      <td>terrence23@adventure-works.com</td>\n",
       "    </tr>\n",
       "    <tr>\n",
       "      <th>885415</th>\n",
       "      <td>900861</td>\n",
       "      <td>01/12/2017</td>\n",
       "      <td>05/12/2017</td>\n",
       "      <td>4</td>\n",
       "      <td>306</td>\n",
       "      <td>224</td>\n",
       "      <td>10</td>\n",
       "      <td>8596</td>\n",
       "      <td>8</td>\n",
       "      <td>0</td>\n",
       "      <td>Litware Home Theater System 4.1 Channel M410 B...</td>\n",
       "      <td>Loja Contoso Europe Online</td>\n",
       "      <td>cmordangl@webnode.com</td>\n",
       "    </tr>\n",
       "  </tbody>\n",
       "</table>\n",
       "<p>42771 rows × 13 columns</p>\n",
       "</div>"
      ],
      "text/plain": [
       "        Numero da Venda Data da Venda Data do Envio  ID Canal  ID Loja  \\\n",
       "1                880458    23/11/2017    23/11/2017         0      306   \n",
       "17               614980    18/08/2017    18/08/2017         0      306   \n",
       "18               786402    21/10/2017    25/10/2017         4      306   \n",
       "19               383897    25/05/2017    28/05/2017         3      306   \n",
       "77               559478    26/07/2017    29/07/2017         3      306   \n",
       "...                 ...           ...           ...       ...      ...   \n",
       "885329           865745    18/11/2017    24/11/2017         6      306   \n",
       "885356           907944    04/12/2017    04/12/2017         0      306   \n",
       "885386           919123    08/12/2017    08/12/2017         0      306   \n",
       "885390           964452    25/12/2017    25/12/2017         0      306   \n",
       "885415           900861    01/12/2017    05/12/2017         4      306   \n",
       "\n",
       "        ID Produto  ID Promocao  ID Cliente  Quantidade Vendida  \\\n",
       "1              235           10        6825                   8   \n",
       "17            1621            9       21344                   4   \n",
       "18             226           10       21344                   8   \n",
       "19             347            1       21344                  20   \n",
       "77            1382            1       24440                   5   \n",
       "...            ...          ...         ...                 ...   \n",
       "885329         823           10        9259                   8   \n",
       "885356         208           10       18529                   8   \n",
       "885386         208           10       38811                   8   \n",
       "885390         192           10       30633                   8   \n",
       "885415         224           10        8596                   8   \n",
       "\n",
       "        Quantidade Devolvida  \\\n",
       "1                          0   \n",
       "17                         0   \n",
       "18                         0   \n",
       "19                         0   \n",
       "77                         0   \n",
       "...                      ...   \n",
       "885329                     0   \n",
       "885356                     0   \n",
       "885386                     0   \n",
       "885390                     0   \n",
       "885415                     0   \n",
       "\n",
       "                                          Nome do Produto  \\\n",
       "1       Litware Home Theater System 7.1 Channel M710 B...   \n",
       "17                         Contoso DVD Movies E100 Yellow   \n",
       "18      Litware Home Theater System 2.1 Channel E210 B...   \n",
       "19                        Fabrikam Laptop14.1 M4100 White   \n",
       "77                    Contoso Single-line phones E10 Grey   \n",
       "...                                                   ...   \n",
       "885329  Contoso Connectivity Starter Kit Smart Buy M68...   \n",
       "885356  Litware Home Theater System 4.1 Channel M410 S...   \n",
       "885386  Litware Home Theater System 4.1 Channel M410 S...   \n",
       "885390  Litware Home Theater System 4.1 Channel M410 B...   \n",
       "885415  Litware Home Theater System 4.1 Channel M410 B...   \n",
       "\n",
       "                       Nome da Loja               E-mail do Cliente  \n",
       "1       Loja Contoso Europe Online           rbrumfieldmy@ameblo.jp  \n",
       "17      Loja Contoso Europe Online     makayla3@adventure-works.com  \n",
       "18      Loja Contoso Europe Online     makayla3@adventure-works.com  \n",
       "19      Loja Contoso Europe Online     makayla3@adventure-works.com  \n",
       "77      Loja Contoso Europe Online       noah55@adventure-works.com  \n",
       "...                             ...                             ...  \n",
       "885329  Loja Contoso Europe Online         mplaskitt78@marriott.com  \n",
       "885356  Loja Contoso Europe Online            eribchesteres@pbs.org  \n",
       "885386  Loja Contoso Europe Online    jessica47@adventure-works.com  \n",
       "885390  Loja Contoso Europe Online   terrence23@adventure-works.com  \n",
       "885415  Loja Contoso Europe Online            cmordangl@webnode.com  \n",
       "\n",
       "[42771 rows x 13 columns]"
      ]
     },
     "metadata": {},
     "output_type": "display_data"
    },
    {
     "name": "stdout",
     "output_type": "stream",
     "text": [
      "1.33%\n"
     ]
    }
   ],
   "source": [
    "# Filter the Store, Sum quantity of sales and returned, calculate the percentage\n",
    "sales_store_europe = sales_df[sales_df['ID Loja']== 306]\n",
    "display(sales_store_europe)\n",
    "qty_sales = sales_store_europe['Quantidade Vendida'].sum()\n",
    "qty_returned = sales_store_europe['Quantidade Devolvida'].sum()\n",
    "print('{:.2%}'.format(qty_returned / qty_sales))"
   ]
  },
  {
   "cell_type": "markdown",
   "metadata": {},
   "source": [
    "A table with sales of Store 'Loja Contoso Europe Online' without returned"
   ]
  },
  {
   "cell_type": "code",
   "execution_count": 110,
   "metadata": {},
   "outputs": [
    {
     "data": {
      "text/html": [
       "<div>\n",
       "<style scoped>\n",
       "    .dataframe tbody tr th:only-of-type {\n",
       "        vertical-align: middle;\n",
       "    }\n",
       "\n",
       "    .dataframe tbody tr th {\n",
       "        vertical-align: top;\n",
       "    }\n",
       "\n",
       "    .dataframe thead th {\n",
       "        text-align: right;\n",
       "    }\n",
       "</style>\n",
       "<table border=\"1\" class=\"dataframe\">\n",
       "  <thead>\n",
       "    <tr style=\"text-align: right;\">\n",
       "      <th></th>\n",
       "      <th>Numero da Venda</th>\n",
       "      <th>Data da Venda</th>\n",
       "      <th>Data do Envio</th>\n",
       "      <th>ID Canal</th>\n",
       "      <th>ID Loja</th>\n",
       "      <th>ID Produto</th>\n",
       "      <th>ID Promocao</th>\n",
       "      <th>ID Cliente</th>\n",
       "      <th>Quantidade Vendida</th>\n",
       "      <th>Quantidade Devolvida</th>\n",
       "      <th>Nome do Produto</th>\n",
       "      <th>Nome da Loja</th>\n",
       "      <th>E-mail do Cliente</th>\n",
       "    </tr>\n",
       "  </thead>\n",
       "  <tbody>\n",
       "    <tr>\n",
       "      <th>1</th>\n",
       "      <td>880458</td>\n",
       "      <td>23/11/2017</td>\n",
       "      <td>23/11/2017</td>\n",
       "      <td>0</td>\n",
       "      <td>306</td>\n",
       "      <td>235</td>\n",
       "      <td>10</td>\n",
       "      <td>6825</td>\n",
       "      <td>8</td>\n",
       "      <td>0</td>\n",
       "      <td>Litware Home Theater System 7.1 Channel M710 B...</td>\n",
       "      <td>Loja Contoso Europe Online</td>\n",
       "      <td>rbrumfieldmy@ameblo.jp</td>\n",
       "    </tr>\n",
       "    <tr>\n",
       "      <th>17</th>\n",
       "      <td>614980</td>\n",
       "      <td>18/08/2017</td>\n",
       "      <td>18/08/2017</td>\n",
       "      <td>0</td>\n",
       "      <td>306</td>\n",
       "      <td>1621</td>\n",
       "      <td>9</td>\n",
       "      <td>21344</td>\n",
       "      <td>4</td>\n",
       "      <td>0</td>\n",
       "      <td>Contoso DVD Movies E100 Yellow</td>\n",
       "      <td>Loja Contoso Europe Online</td>\n",
       "      <td>makayla3@adventure-works.com</td>\n",
       "    </tr>\n",
       "    <tr>\n",
       "      <th>18</th>\n",
       "      <td>786402</td>\n",
       "      <td>21/10/2017</td>\n",
       "      <td>25/10/2017</td>\n",
       "      <td>4</td>\n",
       "      <td>306</td>\n",
       "      <td>226</td>\n",
       "      <td>10</td>\n",
       "      <td>21344</td>\n",
       "      <td>8</td>\n",
       "      <td>0</td>\n",
       "      <td>Litware Home Theater System 2.1 Channel E210 B...</td>\n",
       "      <td>Loja Contoso Europe Online</td>\n",
       "      <td>makayla3@adventure-works.com</td>\n",
       "    </tr>\n",
       "    <tr>\n",
       "      <th>19</th>\n",
       "      <td>383897</td>\n",
       "      <td>25/05/2017</td>\n",
       "      <td>28/05/2017</td>\n",
       "      <td>3</td>\n",
       "      <td>306</td>\n",
       "      <td>347</td>\n",
       "      <td>1</td>\n",
       "      <td>21344</td>\n",
       "      <td>20</td>\n",
       "      <td>0</td>\n",
       "      <td>Fabrikam Laptop14.1 M4100 White</td>\n",
       "      <td>Loja Contoso Europe Online</td>\n",
       "      <td>makayla3@adventure-works.com</td>\n",
       "    </tr>\n",
       "    <tr>\n",
       "      <th>77</th>\n",
       "      <td>559478</td>\n",
       "      <td>26/07/2017</td>\n",
       "      <td>29/07/2017</td>\n",
       "      <td>3</td>\n",
       "      <td>306</td>\n",
       "      <td>1382</td>\n",
       "      <td>1</td>\n",
       "      <td>24440</td>\n",
       "      <td>5</td>\n",
       "      <td>0</td>\n",
       "      <td>Contoso Single-line phones E10 Grey</td>\n",
       "      <td>Loja Contoso Europe Online</td>\n",
       "      <td>noah55@adventure-works.com</td>\n",
       "    </tr>\n",
       "    <tr>\n",
       "      <th>...</th>\n",
       "      <td>...</td>\n",
       "      <td>...</td>\n",
       "      <td>...</td>\n",
       "      <td>...</td>\n",
       "      <td>...</td>\n",
       "      <td>...</td>\n",
       "      <td>...</td>\n",
       "      <td>...</td>\n",
       "      <td>...</td>\n",
       "      <td>...</td>\n",
       "      <td>...</td>\n",
       "      <td>...</td>\n",
       "      <td>...</td>\n",
       "    </tr>\n",
       "    <tr>\n",
       "      <th>885329</th>\n",
       "      <td>865745</td>\n",
       "      <td>18/11/2017</td>\n",
       "      <td>24/11/2017</td>\n",
       "      <td>6</td>\n",
       "      <td>306</td>\n",
       "      <td>823</td>\n",
       "      <td>10</td>\n",
       "      <td>9259</td>\n",
       "      <td>8</td>\n",
       "      <td>0</td>\n",
       "      <td>Contoso Connectivity Starter Kit Smart Buy M68...</td>\n",
       "      <td>Loja Contoso Europe Online</td>\n",
       "      <td>mplaskitt78@marriott.com</td>\n",
       "    </tr>\n",
       "    <tr>\n",
       "      <th>885356</th>\n",
       "      <td>907944</td>\n",
       "      <td>04/12/2017</td>\n",
       "      <td>04/12/2017</td>\n",
       "      <td>0</td>\n",
       "      <td>306</td>\n",
       "      <td>208</td>\n",
       "      <td>10</td>\n",
       "      <td>18529</td>\n",
       "      <td>8</td>\n",
       "      <td>0</td>\n",
       "      <td>Litware Home Theater System 4.1 Channel M410 S...</td>\n",
       "      <td>Loja Contoso Europe Online</td>\n",
       "      <td>eribchesteres@pbs.org</td>\n",
       "    </tr>\n",
       "    <tr>\n",
       "      <th>885386</th>\n",
       "      <td>919123</td>\n",
       "      <td>08/12/2017</td>\n",
       "      <td>08/12/2017</td>\n",
       "      <td>0</td>\n",
       "      <td>306</td>\n",
       "      <td>208</td>\n",
       "      <td>10</td>\n",
       "      <td>38811</td>\n",
       "      <td>8</td>\n",
       "      <td>0</td>\n",
       "      <td>Litware Home Theater System 4.1 Channel M410 S...</td>\n",
       "      <td>Loja Contoso Europe Online</td>\n",
       "      <td>jessica47@adventure-works.com</td>\n",
       "    </tr>\n",
       "    <tr>\n",
       "      <th>885390</th>\n",
       "      <td>964452</td>\n",
       "      <td>25/12/2017</td>\n",
       "      <td>25/12/2017</td>\n",
       "      <td>0</td>\n",
       "      <td>306</td>\n",
       "      <td>192</td>\n",
       "      <td>10</td>\n",
       "      <td>30633</td>\n",
       "      <td>8</td>\n",
       "      <td>0</td>\n",
       "      <td>Litware Home Theater System 4.1 Channel M410 B...</td>\n",
       "      <td>Loja Contoso Europe Online</td>\n",
       "      <td>terrence23@adventure-works.com</td>\n",
       "    </tr>\n",
       "    <tr>\n",
       "      <th>885415</th>\n",
       "      <td>900861</td>\n",
       "      <td>01/12/2017</td>\n",
       "      <td>05/12/2017</td>\n",
       "      <td>4</td>\n",
       "      <td>306</td>\n",
       "      <td>224</td>\n",
       "      <td>10</td>\n",
       "      <td>8596</td>\n",
       "      <td>8</td>\n",
       "      <td>0</td>\n",
       "      <td>Litware Home Theater System 4.1 Channel M410 B...</td>\n",
       "      <td>Loja Contoso Europe Online</td>\n",
       "      <td>cmordangl@webnode.com</td>\n",
       "    </tr>\n",
       "  </tbody>\n",
       "</table>\n",
       "<p>35029 rows × 13 columns</p>\n",
       "</div>"
      ],
      "text/plain": [
       "        Numero da Venda Data da Venda Data do Envio  ID Canal  ID Loja  \\\n",
       "1                880458    23/11/2017    23/11/2017         0      306   \n",
       "17               614980    18/08/2017    18/08/2017         0      306   \n",
       "18               786402    21/10/2017    25/10/2017         4      306   \n",
       "19               383897    25/05/2017    28/05/2017         3      306   \n",
       "77               559478    26/07/2017    29/07/2017         3      306   \n",
       "...                 ...           ...           ...       ...      ...   \n",
       "885329           865745    18/11/2017    24/11/2017         6      306   \n",
       "885356           907944    04/12/2017    04/12/2017         0      306   \n",
       "885386           919123    08/12/2017    08/12/2017         0      306   \n",
       "885390           964452    25/12/2017    25/12/2017         0      306   \n",
       "885415           900861    01/12/2017    05/12/2017         4      306   \n",
       "\n",
       "        ID Produto  ID Promocao  ID Cliente  Quantidade Vendida  \\\n",
       "1              235           10        6825                   8   \n",
       "17            1621            9       21344                   4   \n",
       "18             226           10       21344                   8   \n",
       "19             347            1       21344                  20   \n",
       "77            1382            1       24440                   5   \n",
       "...            ...          ...         ...                 ...   \n",
       "885329         823           10        9259                   8   \n",
       "885356         208           10       18529                   8   \n",
       "885386         208           10       38811                   8   \n",
       "885390         192           10       30633                   8   \n",
       "885415         224           10        8596                   8   \n",
       "\n",
       "        Quantidade Devolvida  \\\n",
       "1                          0   \n",
       "17                         0   \n",
       "18                         0   \n",
       "19                         0   \n",
       "77                         0   \n",
       "...                      ...   \n",
       "885329                     0   \n",
       "885356                     0   \n",
       "885386                     0   \n",
       "885390                     0   \n",
       "885415                     0   \n",
       "\n",
       "                                          Nome do Produto  \\\n",
       "1       Litware Home Theater System 7.1 Channel M710 B...   \n",
       "17                         Contoso DVD Movies E100 Yellow   \n",
       "18      Litware Home Theater System 2.1 Channel E210 B...   \n",
       "19                        Fabrikam Laptop14.1 M4100 White   \n",
       "77                    Contoso Single-line phones E10 Grey   \n",
       "...                                                   ...   \n",
       "885329  Contoso Connectivity Starter Kit Smart Buy M68...   \n",
       "885356  Litware Home Theater System 4.1 Channel M410 S...   \n",
       "885386  Litware Home Theater System 4.1 Channel M410 S...   \n",
       "885390  Litware Home Theater System 4.1 Channel M410 B...   \n",
       "885415  Litware Home Theater System 4.1 Channel M410 B...   \n",
       "\n",
       "                       Nome da Loja               E-mail do Cliente  \n",
       "1       Loja Contoso Europe Online           rbrumfieldmy@ameblo.jp  \n",
       "17      Loja Contoso Europe Online     makayla3@adventure-works.com  \n",
       "18      Loja Contoso Europe Online     makayla3@adventure-works.com  \n",
       "19      Loja Contoso Europe Online     makayla3@adventure-works.com  \n",
       "77      Loja Contoso Europe Online       noah55@adventure-works.com  \n",
       "...                             ...                             ...  \n",
       "885329  Loja Contoso Europe Online         mplaskitt78@marriott.com  \n",
       "885356  Loja Contoso Europe Online            eribchesteres@pbs.org  \n",
       "885386  Loja Contoso Europe Online    jessica47@adventure-works.com  \n",
       "885390  Loja Contoso Europe Online   terrence23@adventure-works.com  \n",
       "885415  Loja Contoso Europe Online            cmordangl@webnode.com  \n",
       "\n",
       "[35029 rows x 13 columns]"
      ]
     },
     "metadata": {},
     "output_type": "display_data"
    }
   ],
   "source": [
    "# Filter the Store without Quantity returned\n",
    "sales_store_europe_no_returned = sales_df[(sales_df['ID Loja']== 306) & (sales_df['Quantidade Devolvida']== 0)]\n",
    "display(sales_store_europe_no_returned)"
   ]
  }
 ],
 "metadata": {
  "kernelspec": {
   "display_name": "Python 3.9.10 64-bit",
   "language": "python",
   "name": "python3"
  },
  "language_info": {
   "codemirror_mode": {
    "name": "ipython",
    "version": 3
   },
   "file_extension": ".py",
   "mimetype": "text/x-python",
   "name": "python",
   "nbconvert_exporter": "python",
   "pygments_lexer": "ipython3",
   "version": "3.9.10"
  },
  "orig_nbformat": 4,
  "vscode": {
   "interpreter": {
    "hash": "2a95b1bfbef63db80fc24d8cdaeb6dc431bfe77a099364ca35ea9acab779b4a5"
   }
  }
 },
 "nbformat": 4,
 "nbformat_minor": 2
}
