{
 "cells": [
  {
   "cell_type": "markdown",
   "metadata": {},
   "source": [
    "Data Frames - Empresa fíctica Contoso"
   ]
  },
  {
   "cell_type": "code",
   "execution_count": 24,
   "metadata": {},
   "outputs": [],
   "source": [
    "# Import Pandas library\n",
    "import pandas as pd\n",
    "import matplotlib.pyplot as plt"
   ]
  },
  {
   "cell_type": "code",
   "execution_count": 25,
   "metadata": {},
   "outputs": [],
   "source": [
    "# Data Frames creation\n",
    "products_df = pd.read_csv('Contoso - Cadastro Produtos.csv',sep=';')\n",
    "customers_df = pd.read_csv('Contoso - Clientes.csv',sep=';')\n",
    "stores_df = pd.read_csv('Contoso - Lojas.csv',sep=';')\n",
    "promotions_df = pd.read_csv('Contoso - Promocoes.csv',sep=';')\n",
    "sales_df = pd.read_csv('Contoso - Vendas - 2017.csv',sep=';')"
   ]
  },
  {
   "cell_type": "code",
   "execution_count": 26,
   "metadata": {},
   "outputs": [
    {
     "name": "stdout",
     "output_type": "stream",
     "text": [
      "<class 'pandas.core.frame.DataFrame'>\n",
      "RangeIndex: 1690 entries, 0 to 1689\n",
      "Data columns (total 9 columns):\n",
      " #   Column                Non-Null Count  Dtype \n",
      "---  ------                --------------  ----- \n",
      " 0   Nome do Produto       1690 non-null   object\n",
      " 1   Descricao do Produto  1690 non-null   object\n",
      " 2   Fabricante            1690 non-null   object\n",
      " 3   Nome da Marca         1690 non-null   object\n",
      " 4   Tipo                  1690 non-null   object\n",
      " 5   Custo Unitario        1690 non-null   object\n",
      " 6   Preco Unitario        1690 non-null   object\n",
      " 7   ID Produto            1690 non-null   int64 \n",
      " 8   ID Subcategoria       1690 non-null   int64 \n",
      "dtypes: int64(2), object(7)\n",
      "memory usage: 119.0+ KB\n"
     ]
    }
   ],
   "source": [
    "# Data Information - Products\n",
    "products_df.info()"
   ]
  },
  {
   "cell_type": "code",
   "execution_count": 27,
   "metadata": {},
   "outputs": [
    {
     "name": "stdout",
     "output_type": "stream",
     "text": [
      "<class 'pandas.core.frame.DataFrame'>\n",
      "RangeIndex: 39504 entries, 0 to 39503\n",
      "Data columns (total 11 columns):\n",
      " #   Column              Non-Null Count  Dtype  \n",
      "---  ------              --------------  -----  \n",
      " 0   ID Cliente          39504 non-null  int64  \n",
      " 1   Primeiro Nome       39504 non-null  object \n",
      " 2   Sobrenome           39504 non-null  object \n",
      " 3   E-mail              39504 non-null  object \n",
      " 4   Genero              39504 non-null  object \n",
      " 5   Numero de Filhos    39504 non-null  int64  \n",
      " 6   Data de Nascimento  39504 non-null  object \n",
      " 7   Unnamed: 7          0 non-null      float64\n",
      " 8   Unnamed: 8          0 non-null      float64\n",
      " 9   Unnamed: 9          0 non-null      float64\n",
      " 10  Unnamed: 10         0 non-null      float64\n",
      "dtypes: float64(4), int64(2), object(5)\n",
      "memory usage: 3.3+ MB\n"
     ]
    }
   ],
   "source": [
    "# Data Information - Clients\n",
    "customers_df.info()"
   ]
  },
  {
   "cell_type": "code",
   "execution_count": 28,
   "metadata": {},
   "outputs": [
    {
     "name": "stdout",
     "output_type": "stream",
     "text": [
      "<class 'pandas.core.frame.DataFrame'>\n",
      "RangeIndex: 306 entries, 0 to 305\n",
      "Data columns (total 4 columns):\n",
      " #   Column                    Non-Null Count  Dtype  \n",
      "---  ------                    --------------  -----  \n",
      " 0   ID Loja                   306 non-null    int64  \n",
      " 1   Nome da Loja              306 non-null    object \n",
      " 2   Quantidade Colaboradores  305 non-null    float64\n",
      " 3   País                      306 non-null    object \n",
      "dtypes: float64(1), int64(1), object(2)\n",
      "memory usage: 9.7+ KB\n"
     ]
    }
   ],
   "source": [
    "# Data Information - Clients\n",
    "stores_df.info()"
   ]
  },
  {
   "cell_type": "code",
   "execution_count": 29,
   "metadata": {},
   "outputs": [
    {
     "name": "stdout",
     "output_type": "stream",
     "text": [
      "<class 'pandas.core.frame.DataFrame'>\n",
      "RangeIndex: 28 entries, 0 to 27\n",
      "Data columns (total 7 columns):\n",
      " #   Column               Non-Null Count  Dtype  \n",
      "---  ------               --------------  -----  \n",
      " 0   ID Promocao          28 non-null     int64  \n",
      " 1   Nome Promocao        28 non-null     object \n",
      " 2   Percentual Desconto  28 non-null     object \n",
      " 3   Data Inicio          28 non-null     object \n",
      " 4   Data Termino         28 non-null     object \n",
      " 5   Unnamed: 5           0 non-null      float64\n",
      " 6   Unnamed: 6           0 non-null      float64\n",
      "dtypes: float64(2), int64(1), object(4)\n",
      "memory usage: 1.7+ KB\n"
     ]
    }
   ],
   "source": [
    "# Data Information - Clients\n",
    "promotions_df.info()"
   ]
  },
  {
   "cell_type": "code",
   "execution_count": 30,
   "metadata": {},
   "outputs": [
    {
     "name": "stdout",
     "output_type": "stream",
     "text": [
      "<class 'pandas.core.frame.DataFrame'>\n",
      "RangeIndex: 980642 entries, 0 to 980641\n",
      "Data columns (total 10 columns):\n",
      " #   Column                Non-Null Count   Dtype \n",
      "---  ------                --------------   ----- \n",
      " 0   Numero da Venda       980642 non-null  int64 \n",
      " 1   Data da Venda         980642 non-null  object\n",
      " 2   Data do Envio         980642 non-null  object\n",
      " 3   ID Canal              980642 non-null  int64 \n",
      " 4   ID Loja               980642 non-null  int64 \n",
      " 5   ID Produto            980642 non-null  int64 \n",
      " 6   ID Promocao           980642 non-null  int64 \n",
      " 7   ID Cliente            980642 non-null  int64 \n",
      " 8   Quantidade Vendida    980642 non-null  int64 \n",
      " 9   Quantidade Devolvida  980642 non-null  int64 \n",
      "dtypes: int64(8), object(2)\n",
      "memory usage: 74.8+ MB\n"
     ]
    }
   ],
   "source": [
    "# Data Information - Clients\n",
    "sales_df.info()"
   ]
  },
  {
   "cell_type": "code",
   "execution_count": 31,
   "metadata": {},
   "outputs": [],
   "source": [
    "# Remove Non useful columns in Data Frame Clients\n",
    "customers_df = customers_df.drop(['Unnamed: 7','Unnamed: 8','Unnamed: 9','Unnamed: 10'],axis=1)"
   ]
  },
  {
   "cell_type": "code",
   "execution_count": 32,
   "metadata": {},
   "outputs": [],
   "source": [
    "# Use only columns in Data Frame Clients\n",
    "customers_df = customers_df[['ID Cliente','E-mail']]"
   ]
  },
  {
   "cell_type": "code",
   "execution_count": 33,
   "metadata": {},
   "outputs": [],
   "source": [
    "# Remove Non useful columns in Data Frame Promotion\n",
    "promotions_df = promotions_df.drop(['Unnamed: 5','Unnamed: 6'],axis=1)"
   ]
  },
  {
   "cell_type": "code",
   "execution_count": 34,
   "metadata": {},
   "outputs": [],
   "source": [
    "# Use only columns in Data Frames Products and Stores\n",
    "products_df = products_df[['ID Produto','Nome do Produto']]\n",
    "stores_df = stores_df[['ID Loja','Nome da Loja']]"
   ]
  },
  {
   "cell_type": "code",
   "execution_count": 35,
   "metadata": {},
   "outputs": [],
   "source": [
    "# Merge Data Frames\n",
    "sales_df = sales_df.merge(products_df,on='ID Produto')\n",
    "sales_df = sales_df.merge(stores_df,on='ID Loja')\n",
    "sales_df = sales_df.merge(customers_df,on='ID Cliente')"
   ]
  },
  {
   "cell_type": "code",
   "execution_count": 36,
   "metadata": {},
   "outputs": [],
   "source": [
    "# Rename one Column\n",
    "sales_df = sales_df.rename(columns={'E-mail':'E-mail do Cliente'})"
   ]
  },
  {
   "cell_type": "markdown",
   "metadata": {},
   "source": [
    "Which customer buy more often?"
   ]
  },
  {
   "cell_type": "code",
   "execution_count": 40,
   "metadata": {},
   "outputs": [
    {
     "data": {
      "text/plain": [
       "karen33@adventure-works.com       77\n",
       "chloe77@adventure-works.com       74\n",
       "julia43@adventure-works.com       69\n",
       "destiny66@adventure-works.com     68\n",
       "gilbert9@adventure-works.com      68\n",
       "                                  ..\n",
       "isabella51@adventure-works.com     1\n",
       "wdalescoci@pbs.org                 1\n",
       "kbroggelliin@rakuten.co.jp         1\n",
       "connor15@adventure-works.com       1\n",
       "ekorneevmm@instagram.com           1\n",
       "Name: E-mail do Cliente, Length: 38907, dtype: int64"
      ]
     },
     "metadata": {},
     "output_type": "display_data"
    },
    {
     "data": {
      "text/plain": [
       "<AxesSubplot:>"
      ]
     },
     "execution_count": 40,
     "metadata": {},
     "output_type": "execute_result"
    },
    {
     "data": {
      "image/png": "[encoded data removed]",
      "text/plain": [
       "<Figure size 1080x360 with 1 Axes>"
      ]
     },
     "metadata": {
      "needs_background": "light"
     },
     "output_type": "display_data"
    }
   ],
   "source": [
    "often_customers = sales_df['E-mail do Cliente'].value_counts()\n",
    "display(often_customers)\n",
    "often_customers[:5].plot(figsize=(15,5))"
   ]
  }
 ],
 "metadata": {
  "kernelspec": {
   "display_name": "Python 3.9.10 64-bit",
   "language": "python",
   "name": "python3"
  },
  "language_info": {
   "codemirror_mode": {
    "name": "ipython",
    "version": 3
   },
   "file_extension": ".py",
   "mimetype": "text/x-python",
   "name": "python",
   "nbconvert_exporter": "python",
   "pygments_lexer": "ipython3",
   "version": "3.9.10"
  },
  "orig_nbformat": 4,
  "vscode": {
   "interpreter": {
    "hash": "2a95b1bfbef63db80fc24d8cdaeb6dc431bfe77a099364ca35ea9acab779b4a5"
   }
  }
 },
 "nbformat": 4,
 "nbformat_minor": 2
}
